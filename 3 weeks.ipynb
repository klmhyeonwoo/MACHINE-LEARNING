{
  "nbformat": 4,
  "nbformat_minor": 0,
  "metadata": {
    "colab": {
      "name": "3주차 과제",
      "provenance": [],
      "collapsed_sections": []
    },
    "kernelspec": {
      "name": "python3",
      "display_name": "Python 3"
    },
    "language_info": {
      "name": "python"
    }
  },
  "cells": [
    {
      "cell_type": "code",
      "execution_count": 76,
      "metadata": {
        "id": "alk0TVkl94iN"
      },
      "outputs": [],
      "source": [
        "import matplotlib.pyplot as plt\n",
        "import numpy as np\n",
        "from sklearn.neighbors import KNeighborsClassifier"
      ]
    },
    {
      "cell_type": "markdown",
      "source": [
        "- (1) 첫번째 그륩과 두번째 그륩의 산점도 테스트\n",
        "- 높이 값은 np.random.randint를 통해 랜덤 값으로 조정 (Random seed는 0으로 값을 줘 랜덤 값 고정)\n",
        "- (2) 훈련세트와 테스트세트의 산점도 테스트"
      ],
      "metadata": {
        "id": "BXgx_u-dIn_D"
      }
    },
    {
      "cell_type": "code",
      "source": [
        "groupFirst = [1,2,3,4,5]\n",
        "groupTwice = [6,7,8,9,10]\n",
        "\n",
        "np.random.seed(0)\n",
        "groupValue = np.random.randint(low=1, high=11, size=10)\n",
        "groupSet = groupFirst + groupTwice\n",
        "groupTarget = [1] * 5 + [0] * 5\n",
        "\n",
        "groupData = [[n,w] for n,w in zip(groupSet,groupValue)]\n",
        "\n",
        "plt.scatter(groupSet, groupValue)  \n",
        "plt.xlabel('number')\n",
        "plt.ylabel('weight')\n",
        "plt.show()\n",
        "\n",
        "input_arr = np.array(groupData)\n",
        "target_arr = np.array(groupTarget)\n",
        "\n",
        "index = np.arange(10)\n",
        "np.random.shuffle(index)\n",
        "\n",
        "trainInput = input_arr[index[:7]]\n",
        "trainTarget = target_arr[index[:7]]\n",
        "testInput = input_arr[index[7:]]\n",
        "testTarget = target_arr[index[7:]]\n",
        "\n",
        "plt.scatter(trainInput[:,0], trainInput[:,1]) # 파란색 점이 훈련 세트\n",
        "plt.scatter(testInput[:,0], testInput[:,1]) #  주황색 점이 테스트 세트\n",
        "plt.xlabel('number')\n",
        "plt.ylabel('weight')\n",
        "plt.show()\n",
        "\n",
        "kn = KNeighborsClassifier(n_neighbors=3)\n",
        "kn.fit(trainInput, trainTarget)\n",
        "s = kn.score(testInput, testTarget)\n",
        "print(\"\")\n",
        "print(f'KNN의 정확도 : {s:.1f}')\n"
      ],
      "metadata": {
        "id": "a_tuphcq-TeB",
        "colab": {
          "base_uri": "https://localhost:8080/",
          "height": 578
        },
        "outputId": "d2d401cb-f97f-47ba-d336-9490ba06c53c"
      },
      "execution_count": 78,
      "outputs": [
        {
          "output_type": "display_data",
          "data": {
            "text/plain": [
              "<Figure size 432x288 with 1 Axes>"
            ],
            "image/png": "[encoded data removed]"
          },
          "metadata": {
            "needs_background": "light"
          }
        },
        {
          "output_type": "display_data",
          "data": {
            "text/plain": [
              "<Figure size 432x288 with 1 Axes>"
            ],
            "image/png": "[encoded data removed]"
          },
          "metadata": {
            "needs_background": "light"
          }
        },
        {
          "output_type": "stream",
          "name": "stdout",
          "text": [
            "\n",
            "KNN의 정확도 : 1.0\n"
          ]
        }
      ]
    },
    {
      "cell_type": "markdown",
      "source": [
        "- n_neighbors 개수에 따른 오분류율 확인"
      ],
      "metadata": {
        "id": "s3fwNsU-ZMwN"
      }
    },
    {
      "cell_type": "code",
      "source": [
        "for K in range(1,8):\n",
        "  kn = KNeighborsClassifier(n_neighbors=K)\n",
        "  kn.fit(trainInput, trainTarget)\n",
        "  s = kn.score(testInput, testTarget)\n",
        "  print (f' {K}일때, {s:.1f}')"
      ],
      "metadata": {
        "colab": {
          "base_uri": "https://localhost:8080/"
        },
        "id": "9nodgTknAXwO",
        "outputId": "70d61d3e-64be-43cf-86cf-ed7240575cd2"
      },
      "execution_count": 79,
      "outputs": [
        {
          "output_type": "stream",
          "name": "stdout",
          "text": [
            " 1일때, 1.0\n",
            " 2일때, 1.0\n",
            " 3일때, 1.0\n",
            " 4일때, 1.0\n",
            " 5일때, 0.7\n",
            " 6일때, 0.7\n",
            " 7일때, 0.3\n"
          ]
        }
      ]
    },
    {
      "cell_type": "code",
      "source": [
        ""
      ],
      "metadata": {
        "id": "q1QlWFfp9y8r"
      },
      "execution_count": null,
      "outputs": []
    }
  ]
}