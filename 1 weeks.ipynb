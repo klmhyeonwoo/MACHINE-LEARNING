{
  "nbformat": 4,
  "nbformat_minor": 0,
  "metadata": {
    "colab": {
      "name": "김현우201704027.ipynb",
      "provenance": [],
      "collapsed_sections": []
    },
    "kernelspec": {
      "name": "python3",
      "display_name": "Python 3"
    },
    "language_info": {
      "name": "python"
    }
  },
  "cells": [
    {
      "cell_type": "markdown",
      "source": [
        "201704027 김현우 \n",
        "화요일 오전반 // 기계학습 과제 1번, 1부터 100까지의 함수 ipynb 파일 제출"
      ],
      "metadata": {
        "id": "N2qxR8fkwwSL"
      }
    },
    {
      "cell_type": "code",
      "execution_count": null,
      "metadata": {
        "colab": {
          "base_uri": "https://localhost:8080/"
        },
        "id": "PemStvTvvDIF",
        "outputId": "0234bbc2-64ff-4940-99dc-9e3acb8f6f47"
      },
      "outputs": [
        {
          "output_type": "stream",
          "name": "stdout",
          "text": [
            "5050\n"
          ]
        }
      ],
      "source": [
        "def test(x):\n",
        "  count = 0\n",
        "  for i in range (1, x+1):\n",
        "    count += i\n",
        "  return count\n",
        "\n",
        "print(test(100))"
      ]
    },
    {
      "cell_type": "code",
      "source": [
        "def test(x):\n",
        "  count = [] \n",
        "  for i in range (1, x+1):\n",
        "    count.append(i)\n",
        "  return sum(count)\n",
        "\n",
        "print(test(100))"
      ],
      "metadata": {
        "colab": {
          "base_uri": "https://localhost:8080/"
        },
        "id": "ZI9wspzbxyDl",
        "outputId": "89099df8-624f-48ad-e2ba-2af8a238cfb1"
      },
      "execution_count": null,
      "outputs": [
        {
          "output_type": "stream",
          "name": "stdout",
          "text": [
            "5050\n"
          ]
        }
      ]
    },
    {
      "cell_type": "code",
      "source": [
        "sum(range(1,101))"
      ],
      "metadata": {
        "colab": {
          "base_uri": "https://localhost:8080/"
        },
        "id": "JUP8SjfwV6Mi",
        "outputId": "e7723b20-a6c1-428b-e6aa-7c12d2511c47"
      },
      "execution_count": 7,
      "outputs": [
        {
          "output_type": "execute_result",
          "data": {
            "text/plain": [
              "5050"
            ]
          },
          "metadata": {},
          "execution_count": 7
        }
      ]
    }
  ]
}