{
  "nbformat": 4,
  "nbformat_minor": 0,
  "metadata": {
    "colab": {
      "name": "201704027_김현우.ipynb",
      "provenance": [],
      "collapsed_sections": []
    },
    "kernelspec": {
      "name": "python3",
      "display_name": "Python 3"
    },
    "language_info": {
      "name": "python"
    }
  },
  "cells": [
    {
      "cell_type": "code",
      "execution_count": 86,
      "metadata": {
        "id": "5lihugCtJMjA"
      },
      "outputs": [],
      "source": [
        "import warnings\n",
        "from sklearn import datasets\n",
        "from sklearn.model_selection import train_test_split\n",
        "from sklearn.preprocessing import PolynomialFeatures\n",
        "\n",
        "from sklearn.linear_model import Ridge\n",
        "from sklearn.linear_model import Lasso\n",
        "from sklearn.linear_model import LinearRegression\n",
        "\n",
        "import numpy as np\n",
        "import matplotlib.pyplot as plt\n",
        "\n",
        "warnings.simplefilter(action='ignore', category=FutureWarning)\n",
        "\n",
        "bstn = datasets.load_boston()\n",
        "train_input, test_input, train_target, test_target = train_test_split(bstn.data, bstn.target, random_state = 1)"
      ]
    },
    {
      "cell_type": "markdown",
      "source": [
        "**<font size=\"2px\"> 일반 선형회귀 </font>**\n"
      ],
      "metadata": {
        "id": "SpBAMmOlNQs4"
      }
    },
    {
      "cell_type": "code",
      "source": [
        "lr = LinearRegression()\n",
        "lr.fit(train_input, train_target)\n",
        "print(f'lr train score : {lr.score(train_input, train_target)}')\n",
        "print(f'lr test score : {lr.score(test_input, test_target)}')"
      ],
      "metadata": {
        "colab": {
          "base_uri": "https://localhost:8080/"
        },
        "id": "wBRxDZOEKcXi",
        "outputId": "d12b84b4-0683-439a-db02-2155be627210"
      },
      "execution_count": 87,
      "outputs": [
        {
          "output_type": "stream",
          "name": "stdout",
          "text": [
            "lr train score : 0.7168057552393374\n",
            "lr test score : 0.7789410172622863\n"
          ]
        }
      ]
    },
    {
      "cell_type": "markdown",
      "source": [
        "**<font size=\"2px\"> 랏소 회귀 </font>**"
      ],
      "metadata": {
        "id": "tfQzE0hvNZRc"
      }
    },
    {
      "cell_type": "code",
      "source": [
        "lasso = Lasso()\n",
        "lasso.fit(train_input, train_target)\n",
        "print(f'Lasso train score : {lasso.score(train_input, train_target)}')\n",
        "print(f'Lasso test score : {lasso.score(test_input, test_target)}')"
      ],
      "metadata": {
        "colab": {
          "base_uri": "https://localhost:8080/"
        },
        "id": "SCVYN3GBKxxi",
        "outputId": "a70a74d4-7c48-4c7e-8531-70b75d11fd82"
      },
      "execution_count": 88,
      "outputs": [
        {
          "output_type": "stream",
          "name": "stdout",
          "text": [
            "Lasso train score : 0.6481706225568704\n",
            "Lasso test score : 0.662198077052326\n"
          ]
        }
      ]
    },
    {
      "cell_type": "markdown",
      "source": [
        "**<font size=\"2px\"> 릿지 회귀 </font>**"
      ],
      "metadata": {
        "id": "tqOxom73NbfW"
      }
    },
    {
      "cell_type": "code",
      "source": [
        "ridge = Ridge()\n",
        "ridge.fit(train_input, train_target)\n",
        "print(f'Ridge train score : {ridge.score(train_input, train_target)}')\n",
        "print(f'Ridge test score : {ridge.score(test_input, test_target)}')"
      ],
      "metadata": {
        "colab": {
          "base_uri": "https://localhost:8080/"
        },
        "id": "rw4IKNHtLC2Y",
        "outputId": "048f716a-3c6d-4403-fa00-bc572f476155"
      },
      "execution_count": 89,
      "outputs": [
        {
          "output_type": "stream",
          "name": "stdout",
          "text": [
            "Ridge train score : 0.7130645548355914\n",
            "Ridge test score : 0.784777431688241\n"
          ]
        }
      ]
    },
    {
      "cell_type": "markdown",
      "source": [
        "**<font size=\"2px\"> 정규화 및 재시도 - 릿지 회귀, 랏소 회귀, 선형 회귀 </font>**"
      ],
      "metadata": {
        "id": "LP0dZcc3Nc64"
      }
    },
    {
      "cell_type": "code",
      "source": [
        "from sklearn.preprocessing import StandardScaler\n",
        "ss = StandardScaler()\n",
        "ss.fit(train_input)\n",
        "train_scaled = ss.transform(train_input)\n",
        "test_scaled = ss.transform(test_input)\n",
        "\n",
        "lasso = Lasso()\n",
        "lasso.fit(train_scaled, train_target)\n",
        "print(f'Lasso train score : {lasso.score(train_scaled, train_target)}')\n",
        "print(f'Lasso test score : {lasso.score(test_scaled, test_target)}')\n",
        "print()\n",
        "\n",
        "ridge = Ridge()\n",
        "ridge.fit(train_scaled, train_target)\n",
        "print(f'Ridge train score : {ridge.score(train_scaled, train_target)}')\n",
        "print(f'Ridge test score : {ridge.score(test_scaled, test_target)}')\n"
      ],
      "metadata": {
        "colab": {
          "base_uri": "https://localhost:8080/"
        },
        "id": "1h1iwYY9LYXO",
        "outputId": "8760bb99-f93b-4ff4-f578-4340fb3d6c85"
      },
      "execution_count": 133,
      "outputs": [
        {
          "output_type": "stream",
          "name": "stdout",
          "text": [
            "Lasso train score : 0.6350155734139249\n",
            "Lasso test score : 0.6694154853500853\n",
            "\n",
            "Ridge train score : 0.7167789345572821\n",
            "Ridge test score : 0.7789704562726603\n"
          ]
        }
      ]
    },
    {
      "cell_type": "markdown",
      "source": [
        "**<font size=\"2px\"> \b릿지 회귀에서 최적의 알파값 찾기\n",
        " </font>**"
      ],
      "metadata": {
        "id": "TehGviCDNh3Q"
      }
    },
    {
      "cell_type": "code",
      "source": [
        "alpha_list = [0.001, 0.01, 0.1, 1, 10, 100]\n",
        "\n",
        "train_score = np.zeros(len(alpha_list))\n",
        "test_score = np.zeros(len(alpha_list))\n",
        "i = 0\n",
        "for alpha in alpha_list:\n",
        "  ridge = Ridge(alpha = alpha)\n",
        "  ridge.fit(train_scaled, train_target)\n",
        "  train_score[i] = ridge.score(train_scaled, train_target)\n",
        "  test_score[i] = ridge.score(test_scaled, test_target)\n",
        "  i += 1\n",
        "\n",
        "plt.plot(np.log10(alpha_list), train_score)\n",
        "plt.plot(np.log10(alpha_list), test_score)\n",
        "plt.xlabel(\"alpha value\")\n",
        "plt.ylabel(\"score avg\")\n",
        "plt.show()\n",
        "\n",
        "print(train_score)\n",
        "print(test_score)"
      ],
      "metadata": {
        "colab": {
          "base_uri": "https://localhost:8080/",
          "height": 315
        },
        "id": "IMPnolyhM3Oo",
        "outputId": "732aeb5a-add4-451b-8fc4-42c0348d1ffe"
      },
      "execution_count": 138,
      "outputs": [
        {
          "output_type": "display_data",
          "data": {
            "text/plain": [
              "<Figure size 432x288 with 1 Axes>"
            ],
            "image/png": "[encoded data removed]"
          },
          "metadata": {
            "needs_background": "light"
          }
        },
        {
          "output_type": "stream",
          "name": "stdout",
          "text": [
            "[0.71680576 0.71680575 0.71680547 0.71677893 0.71511703 0.68536214]\n",
            "[0.77894108 0.77894162 0.77894674 0.77897046 0.77751084 0.7378492 ]\n"
          ]
        }
      ]
    },
    {
      "cell_type": "code",
      "source": [
        "# 최적은 아니지만, 상단의 산점도에서 그나마 최적인 0.001\n",
        "\n",
        "ridge = Ridge(alpha = 0.001)\n",
        "ridge.fit(train_scaled, train_target)\n",
        "print(f'Ridge train score : {ridge.score(train_scaled, train_target)}')\n",
        "print(f'Ridge test score : {ridge.score(test_scaled, test_target)}')"
      ],
      "metadata": {
        "colab": {
          "base_uri": "https://localhost:8080/"
        },
        "id": "Nbk85TGbPyMY",
        "outputId": "7415dca3-a8ab-4817-956f-597de2d89add"
      },
      "execution_count": 92,
      "outputs": [
        {
          "output_type": "stream",
          "name": "stdout",
          "text": [
            "Ridge train score : 0.7168057552107168\n",
            "Ridge test score : 0.7789410777435901\n"
          ]
        }
      ]
    },
    {
      "cell_type": "markdown",
      "source": [
        "**<font size=\"2px\"> 랏소 회귀에서 최적의 알파값 찾기 </font>**\n"
      ],
      "metadata": {
        "id": "F1xBbBiyks3K"
      }
    },
    {
      "cell_type": "code",
      "source": [
        "alpha_list = [0.001, 0.01, 0.1, 1, 10, 100]\n",
        "\n",
        "train_score = np.zeros(len(alpha_list))\n",
        "test_score = np.zeros(len(alpha_list))\n",
        "i = 0\n",
        "for alpha in alpha_list:\n",
        "  lasso = Lasso(alpha = alpha)\n",
        "  lasso.fit(train_scaled, train_target)\n",
        "  train_score[i] = lasso.score(train_scaled, train_target)\n",
        "  test_score[i] = lasso.score(test_scaled, test_target)\n",
        "  i += 1\n",
        "\n",
        "plt.plot(np.log10(alpha_list), train_score)\n",
        "plt.plot(np.log10(alpha_list), test_score)\n",
        "plt.xlabel(\"alpha value\")\n",
        "plt.ylabel(\"score avg\")\n",
        "plt.show()\n",
        "\n",
        "print(train_score)\n",
        "print(test_score)"
      ],
      "metadata": {
        "colab": {
          "base_uri": "https://localhost:8080/",
          "height": 315
        },
        "id": "rj8mUBDfPXM4",
        "outputId": "1ff83237-aa0b-4aa1-d37d-5a2a65ac37af"
      },
      "execution_count": 136,
      "outputs": [
        {
          "output_type": "display_data",
          "data": {
            "text/plain": [
              "<Figure size 432x288 with 1 Axes>"
            ],
            "image/png": "[encoded data removed]"
          },
          "metadata": {
            "needs_background": "light"
          }
        },
        {
          "output_type": "stream",
          "name": "stdout",
          "text": [
            "[0.71680473 0.71670388 0.71014866 0.63501557 0.         0.        ]\n",
            "[ 0.77893354  0.77876215  0.7673448   0.66941549 -0.00567691 -0.00567691]\n"
          ]
        }
      ]
    },
    {
      "cell_type": "code",
      "source": [
        "# 최적은 아니지만, 상단의 산점도에서 그나마 최적인 0.001\n",
        "\n",
        "lasso = Lasso(alpha = 0.001)\n",
        "lasso.fit(train_scaled, train_target)\n",
        "print(f'Lasso train score : {lasso.score(train_scaled, train_target)}')\n",
        "print(f'Lasso test score : {lasso.score(test_scaled, test_target)}')"
      ],
      "metadata": {
        "colab": {
          "base_uri": "https://localhost:8080/"
        },
        "id": "eUb7Zf9SQOai",
        "outputId": "70213cd0-7216-41a4-ae05-143f2819b75b"
      },
      "execution_count": 139,
      "outputs": [
        {
          "output_type": "stream",
          "name": "stdout",
          "text": [
            "Lasso train score : 0.716804734158175\n",
            "Lasso test score : 0.778933541111184\n"
          ]
        }
      ]
    },
    {
      "cell_type": "markdown",
      "source": [
        "**<font size=\"2px\"> 특성공학을 통한 선형회귀 </font>**\n"
      ],
      "metadata": {
        "id": "K-jDp54Nlfz-"
      }
    },
    {
      "cell_type": "code",
      "source": [
        "poly = PolynomialFeatures(include_bias=False)\n",
        "poly.fit(train_input)\n",
        "train_poly = poly.transform(train_input)\n",
        "test_poly = poly.transform(test_input)\n",
        "\n",
        "lr_poly = LinearRegression()\n",
        "lr_poly.fit(train_poly, train_target)\n",
        "\n",
        "print(f'lr_poly train score : {lr_poly.score(train_poly, train_target)}')\n",
        "print(f'lr_poly test score : {lr_poly.score(test_poly, test_target)}')"
      ],
      "metadata": {
        "colab": {
          "base_uri": "https://localhost:8080/"
        },
        "id": "AKblPNXaQ13Z",
        "outputId": "89ab1b9c-d783-4721-edac-18072e7505c8"
      },
      "execution_count": 95,
      "outputs": [
        {
          "output_type": "stream",
          "name": "stdout",
          "text": [
            "lr_poly train score : 0.9281262443260944\n",
            "lr_poly test score : 0.8962092351564832\n"
          ]
        }
      ]
    },
    {
      "cell_type": "code",
      "source": [
        "# 랏소 회귀, 릿지 회귀 전 표준화 및 정규화\n",
        "ss.fit(train_poly)\n",
        "train_poly_scaled = ss.transform(train_poly)\n",
        "test_poly_scaled = ss.transform(test_poly)"
      ],
      "metadata": {
        "id": "-BgWmdV0T0zd"
      },
      "execution_count": 115,
      "outputs": []
    },
    {
      "cell_type": "markdown",
      "source": [
        "**<font size=\"2px\"> 특성공학을 이용하여 릿지 회귀의 최적 알파값 찾기 </font>**\n"
      ],
      "metadata": {
        "id": "q18P6-m3lrmb"
      }
    },
    {
      "cell_type": "code",
      "source": [
        "alpha_list = [0.001, 0.01, 0.1, 1, 10, 100]\n",
        "\n",
        "train_score = np.zeros(len(alpha_list))\n",
        "test_score = np.zeros(len(alpha_list))\n",
        "i = 0\n",
        "for alpha in alpha_list:\n",
        "  ridge = Ridge(alpha = alpha)\n",
        "  ridge.fit(train_poly_scaled, train_target)\n",
        "  train_score[i] = ridge.score(train_poly_scaled, train_target)\n",
        "  test_score[i] = ridge.score(test_poly_scaled, test_target)\n",
        "  i += 1\n",
        "\n",
        "plt.plot(np.log10(alpha_list), train_score)\n",
        "plt.plot(np.log10(alpha_list), test_score)\n",
        "plt.xlabel(\"alpha value\")\n",
        "plt.ylabel(\"score avg\")\n",
        "plt.show()\n",
        "\n",
        "print(train_score)\n",
        "print(test_score)"
      ],
      "metadata": {
        "colab": {
          "base_uri": "https://localhost:8080/",
          "height": 315
        },
        "id": "w8E9y6xQTxdE",
        "outputId": "842a2cf9-8b40-48b7-fd0e-14204336787e"
      },
      "execution_count": 113,
      "outputs": [
        {
          "output_type": "display_data",
          "data": {
            "text/plain": [
              "<Figure size 432x288 with 1 Axes>"
            ],
            "image/png": "[encoded data removed]"
          },
          "metadata": {
            "needs_background": "light"
          }
        },
        {
          "output_type": "stream",
          "name": "stdout",
          "text": [
            "[0.9280515  0.92711172 0.92131704 0.9010716  0.85854733 0.77825056]\n",
            "[0.89664665 0.89804985 0.90113548 0.91933594 0.89946661 0.82273799]\n"
          ]
        }
      ]
    },
    {
      "cell_type": "markdown",
      "source": [
        "**<font size=\"2px\"> 특성공학을 이용하여 랏소 회귀의 최적 알파값 찾기 </font>**\n"
      ],
      "metadata": {
        "id": "HYsKBPFMlxX1"
      }
    },
    {
      "cell_type": "code",
      "source": [
        "alpha_list = [0.001, 0.01, 0.1, 1, 10, 100]\n",
        "\n",
        "train_score = np.zeros(len(alpha_list))\n",
        "test_score = np.zeros(len(alpha_list))\n",
        "i = 0\n",
        "for alpha in alpha_list:\n",
        "  lasso = Lasso(alpha = alpha)\n",
        "  lasso.fit(train_poly_scaled, train_target)\n",
        "  train_score[i] = lasso.score(train_poly_scaled, train_target)\n",
        "  test_score[i] = lasso.score(test_poly_scaled, test_target)\n",
        "  i += 1\n",
        "\n",
        "plt.plot(np.log10(alpha_list), train_score)\n",
        "plt.plot(np.log10(alpha_list), test_score)\n",
        "plt.xlabel(\"alpha value\")\n",
        "plt.ylabel(\"score avg\")\n",
        "plt.show()\n",
        "\n",
        "print(train_score)\n",
        "print(test_score)"
      ],
      "metadata": {
        "colab": {
          "base_uri": "https://localhost:8080/",
          "height": 406
        },
        "id": "8_M1RGWJSPqp",
        "outputId": "3fa47a81-aaf8-4f3d-fac0-1afad1775fec"
      },
      "execution_count": 114,
      "outputs": [
        {
          "output_type": "stream",
          "name": "stderr",
          "text": [
            "/usr/local/lib/python3.7/dist-packages/sklearn/linear_model/_coordinate_descent.py:648: ConvergenceWarning: Objective did not converge. You might want to increase the number of iterations, check the scale of the features or consider increasing regularisation. Duality gap: 1.299e+03, tolerance: 3.008e+00\n",
            "  coef_, l1_reg, l2_reg, X, y, max_iter, tol, rng, random, positive\n",
            "/usr/local/lib/python3.7/dist-packages/sklearn/linear_model/_coordinate_descent.py:648: ConvergenceWarning: Objective did not converge. You might want to increase the number of iterations, check the scale of the features or consider increasing regularisation. Duality gap: 6.484e+02, tolerance: 3.008e+00\n",
            "  coef_, l1_reg, l2_reg, X, y, max_iter, tol, rng, random, positive\n"
          ]
        },
        {
          "output_type": "display_data",
          "data": {
            "text/plain": [
              "<Figure size 432x288 with 1 Axes>"
            ],
            "image/png": "[encoded data removed]"
          },
          "metadata": {
            "needs_background": "light"
          }
        },
        {
          "output_type": "stream",
          "name": "stdout",
          "text": [
            "[0.90995757 0.89703245 0.81334053 0.68735948 0.         0.        ]\n",
            "[ 0.89744044  0.91542764  0.8785841   0.73920665 -0.00567691 -0.00567691]\n"
          ]
        }
      ]
    },
    {
      "cell_type": "code",
      "source": [
        "# 정리\n",
        "lr_poly = LinearRegression()\n",
        "lr_poly.fit(train_poly_scaled, train_target)\n",
        "print(f'lr_poly train score : {lr_poly.score(train_poly_scaled, train_target)}')\n",
        "print(f'lr_poly test score : {lr_poly.score(test_poly_scaled, test_target)}')\n",
        "print()\n",
        "\n",
        "print(f'릿지회귀의 베스트 알파 값 : 0.1')\n",
        "ridge = Ridge(alpha = 0.1)\n",
        "ridge.fit(train_poly_scaled, train_target)\n",
        "print(f'Ridge train score : {ridge.score(train_poly_scaled, train_target)}')\n",
        "print(f'Ridge test score : {ridge.score(test_poly_scaled, test_target)}')\n",
        "print()\n",
        "\n",
        "print(f'랏소회귀의 베스트 알파 값 : 0.001')\n",
        "lasso = Lasso(alpha = 0.001)\n",
        "lasso.fit(train_poly_scaled, train_target)\n",
        "print(f'lasso train score : {lasso.score(train_poly_scaled, train_target)}')\n",
        "print(f'lasso test score : {lasso.score(test_poly_scaled, test_target)}')\n",
        "print()"
      ],
      "metadata": {
        "colab": {
          "base_uri": "https://localhost:8080/"
        },
        "id": "Wkeiov0GU_bD",
        "outputId": "01608dd2-7962-479e-ae35-4e9e0b43249d"
      },
      "execution_count": 135,
      "outputs": [
        {
          "output_type": "stream",
          "name": "stdout",
          "text": [
            "lr_poly train score : 0.9281262443260946\n",
            "lr_poly test score : 0.8962092351509705\n",
            "\n",
            "릿지회귀의 베스트 알파 값 : 0.1\n",
            "Ridge train score : 0.9213170354029548\n",
            "Ridge test score : 0.901135481806084\n",
            "\n",
            "랏소회귀의 베스트 알파 값 : 0.001\n",
            "lasso train score : 0.9099575670320065\n",
            "lasso test score : 0.8974404447600711\n",
            "\n"
          ]
        },
        {
          "output_type": "stream",
          "name": "stderr",
          "text": [
            "/usr/local/lib/python3.7/dist-packages/sklearn/linear_model/_coordinate_descent.py:648: ConvergenceWarning: Objective did not converge. You might want to increase the number of iterations, check the scale of the features or consider increasing regularisation. Duality gap: 1.299e+03, tolerance: 3.008e+00\n",
            "  coef_, l1_reg, l2_reg, X, y, max_iter, tol, rng, random, positive\n"
          ]
        }
      ]
    },
    {
      "cell_type": "markdown",
      "source": [
        "**<font size=\"2px\"> \b릿지 회귀, 랏소 회귀, 선형 회귀에 대한 총 계수 산점도 </font>**"
      ],
      "metadata": {
        "id": "CHMbDI8Aj12m"
      }
    },
    {
      "cell_type": "code",
      "source": [
        "warnings.simplefilter(action='ignore', category=RuntimeWarning) \n",
        "plt.plot(lr_poly.coef_, 's', label='Linear Regression')\n",
        "plt.plot(ridge.coef_, '^', label='Ridge Regression')\n",
        "plt.plot(lasso.coef_, 'v', label='Lasso Regression')\n",
        "\n",
        "plt.xlabel('coeff index'); \n",
        "plt.ylabel('coeff value'); \n",
        "plt.ylim(-40, 40)\n",
        "plt.legend()\n",
        "plt.show()\n",
        "\n",
        "#print(lr_poly.intercept_, ridge.intercept_, lasso.intercept_)\n",
        "#print(train_poly_scaled.shape, sum(lasso.coef_== 0))"
      ],
      "metadata": {
        "colab": {
          "base_uri": "https://localhost:8080/",
          "height": 283
        },
        "id": "iTbEDv-8ixyK",
        "outputId": "92ccac6c-030f-4eb1-9bc1-ab1f8a830137"
      },
      "execution_count": 129,
      "outputs": [
        {
          "output_type": "display_data",
          "data": {
            "text/plain": [
              "<Figure size 432x288 with 1 Axes>"
            ],
            "image/png": "[encoded data removed]"
          },
          "metadata": {
            "needs_background": "light"
          }
        }
      ]
    },
    {
      "cell_type": "markdown",
      "source": [
        "<font size=\"2px\"> \b랏소 계수 값들의 절댓값이 가장 작고, 선형 회귀의 계수 값들이 절댓값이 가장 큰 것을 볼 수 있다, 계수의 절댓값이 클수록 상치/에러값으로 부터 영향을 크게 받지 않는 건장한 통계량을 의미한다. </font>"
      ],
      "metadata": {
        "id": "ms0A18EnjSgx"
      }
    }
  ]
}